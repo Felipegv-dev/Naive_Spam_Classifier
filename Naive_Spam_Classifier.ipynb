{
  "cells": [
    {
      "cell_type": "markdown",
      "metadata": {
        "id": "i3unplAvweNB"
      },
      "source": [
        "Autores:\n",
        "* Andrés Felipe García Viña                              A01800027\n",
        "* Santiago Castro Benavides \t\t\tA01799544\n",
        "* Rodrigo Lira Del Ángel \t\t\tA01799277\n",
        "* Diego Jesús de Lara de la Cruz\t\tA01799544\n"
      ]
    },
    {
      "cell_type": "markdown",
      "metadata": {
        "id": "qUXDXrosweNC"
      },
      "source": [
        "En el presente notebook se presenta la solucion al clasificador de spam utilizando el algoritmo de Naive Bayes. Este algoritmo es un clasificador probabilístico que se basa en el teorema de Bayes, el cual establece que la probabilidad de que ocurra un evento A dado que ha ocurrido un evento B es igual a la probabilidad de que ocurra el evento B dado que ha ocurrido el evento A multiplicado por la probabilidad de que ocurra el evento A y dividido por la probabilidad de que ocurra el evento B."
      ]
    },
    {
      "cell_type": "markdown",
      "metadata": {
        "id": "mCgYMrDnweNC"
      },
      "source": [
        "Se hara uso de las librerias `nltk` para el procesamiento de lenguaje natural, y `scikitlearn` para la implementación del modelo de clasificación. `MultinominalNB` del módulo `naive_bayes` de `scikitlearn` para entrenar el modelo de clasificación Naive-Bayes multinomial."
      ]
    },
    {
      "cell_type": "markdown",
      "metadata": {
        "id": "XUxuQF6JweNC"
      },
      "source": [
        "# Importación de librerías"
      ]
    },
    {
      "cell_type": "code",
      "execution_count": null,
      "metadata": {
        "id": "dSohR03IweND"
      },
      "outputs": [],
      "source": [
        "import pandas as pd\n",
        "import nltk\n",
        "import string\n",
        "from nltk.corpus import stopwords\n",
        "from sklearn.feature_extraction.text import CountVectorizer\n",
        "from sklearn.model_selection import train_test_split\n",
        "from sklearn.naive_bayes import MultinomialNB\n",
        "from sklearn.metrics import classification_report"
      ]
    },
    {
      "cell_type": "markdown",
      "metadata": {
        "id": "7tX0ZL0FweND"
      },
      "source": [
        "# Importación de datos y preprocesamiento"
      ]
    },
    {
      "cell_type": "code",
      "execution_count": null,
      "metadata": {
        "id": "N4MmiWPCweND",
        "outputId": "94caddeb-fe1d-4aa4-9891-eeecc05100dd"
      },
      "outputs": [
        {
          "data": {
            "text/html": [
              "<div>\n",
              "<style scoped>\n",
              "    .dataframe tbody tr th:only-of-type {\n",
              "        vertical-align: middle;\n",
              "    }\n",
              "\n",
              "    .dataframe tbody tr th {\n",
              "        vertical-align: top;\n",
              "    }\n",
              "\n",
              "    .dataframe thead th {\n",
              "        text-align: right;\n",
              "    }\n",
              "</style>\n",
              "<table border=\"1\" class=\"dataframe\">\n",
              "  <thead>\n",
              "    <tr style=\"text-align: right;\">\n",
              "      <th></th>\n",
              "      <th>v1</th>\n",
              "      <th>v2</th>\n",
              "    </tr>\n",
              "  </thead>\n",
              "  <tbody>\n",
              "    <tr>\n",
              "      <th>0</th>\n",
              "      <td>ham</td>\n",
              "      <td>Go until jurong point, crazy.. Available only ...</td>\n",
              "    </tr>\n",
              "    <tr>\n",
              "      <th>1</th>\n",
              "      <td>ham</td>\n",
              "      <td>Ok lar... Joking wif u oni...</td>\n",
              "    </tr>\n",
              "    <tr>\n",
              "      <th>2</th>\n",
              "      <td>spam</td>\n",
              "      <td>Free entry in 2 a wkly comp to win FA Cup fina...</td>\n",
              "    </tr>\n",
              "    <tr>\n",
              "      <th>3</th>\n",
              "      <td>ham</td>\n",
              "      <td>U dun say so early hor... U c already then say...</td>\n",
              "    </tr>\n",
              "    <tr>\n",
              "      <th>4</th>\n",
              "      <td>ham</td>\n",
              "      <td>Nah I don't think he goes to usf, he lives aro...</td>\n",
              "    </tr>\n",
              "  </tbody>\n",
              "</table>\n",
              "</div>"
            ],
            "text/plain": [
              "     v1                                                 v2\n",
              "0   ham  Go until jurong point, crazy.. Available only ...\n",
              "1   ham                      Ok lar... Joking wif u oni...\n",
              "2  spam  Free entry in 2 a wkly comp to win FA Cup fina...\n",
              "3   ham  U dun say so early hor... U c already then say...\n",
              "4   ham  Nah I don't think he goes to usf, he lives aro..."
            ]
          },
          "execution_count": 18,
          "metadata": {},
          "output_type": "execute_result"
        }
      ],
      "source": [
        "df = pd.read_csv('spam.csv', encoding='latin-1')\n",
        "df.drop_duplicates(inplace=True)\n",
        "df.dropna(inplace=True)\n",
        "df.head()"
      ]
    },
    {
      "cell_type": "code",
      "execution_count": null,
      "metadata": {
        "id": "6ospT8GAweNE",
        "outputId": "c6371253-35a4-4d61-90ab-2601b0ac940c"
      },
      "outputs": [
        {
          "data": {
            "text/plain": [
              "(5169, 2)"
            ]
          },
          "execution_count": 19,
          "metadata": {},
          "output_type": "execute_result"
        }
      ],
      "source": [
        "df.shape"
      ]
    },
    {
      "cell_type": "markdown",
      "metadata": {
        "id": "RCpJscvzweNE"
      },
      "source": [
        "Eliminamos valores nulos y duplicados"
      ]
    },
    {
      "cell_type": "markdown",
      "metadata": {
        "id": "P5ZriWelweNE"
      },
      "source": [
        "Hacemos uso de la libreria `nltk` y `string` para el preprocesamiento de los datos. En este caso, se eliminan las stopwords, se tokenizan las palabras y se realiza el proceso de lematización. <br>\n",
        "_Entendemos lematizacion a la tecnica de reducir variantes morfologicas de la forma de una palabra a raices comunes o lexemas_"
      ]
    },
    {
      "cell_type": "code",
      "execution_count": null,
      "metadata": {
        "id": "oO-DvyAHweNF"
      },
      "outputs": [],
      "source": [
        "def process_text(text: str) -> str:\n",
        "    \"\"\"Esta función recibe un texto y devuelve un string limpio\"\"\"\n",
        "    nopunc = [char for char in text if char not in string.punctuation]\n",
        "    nopunc = ''.join(nopunc)\n",
        "    clean_words = [word for word in nopunc.split() if word.lower() not in stopwords.words('english')]\n",
        "    return ' '.join(clean_words)"
      ]
    },
    {
      "cell_type": "markdown",
      "metadata": {
        "id": "7gxxSviNweNF"
      },
      "source": [
        "Para hacer uso de la funcion creada `process_text` se debe instalar la sublibreria de `nltk stopwords`. las Stopwords son palabtas comunes como  \"the\", \"a\", \"and\", \"in\" lo que se busca es ignorar todas estas palabras en los corres a analizar. <br>\n",
        "imagen referencia de StopWords <br>\n",
        "![image.png](data:image/png;base64,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)\n",
        "<br>\n",
        "Para ello, se debe ejecutar el siguiente código:"
      ]
    },
    {
      "cell_type": "code",
      "execution_count": null,
      "metadata": {
        "id": "GWQGTNObweNF",
        "outputId": "c63ff265-bd23-4d04-d26a-c28fba18cf08"
      },
      "outputs": [
        {
          "name": "stderr",
          "output_type": "stream",
          "text": [
            "[nltk_data] Downloading package stopwords to C:\\Users\\Felipe\n",
            "[nltk_data]     Garcia\\AppData\\Roaming\\nltk_data...\n",
            "[nltk_data]   Package stopwords is already up-to-date!\n"
          ]
        },
        {
          "data": {
            "text/plain": [
              "True"
            ]
          },
          "execution_count": 21,
          "metadata": {},
          "output_type": "execute_result"
        }
      ],
      "source": [
        "nltk.download('stopwords')"
      ]
    },
    {
      "cell_type": "code",
      "execution_count": null,
      "metadata": {
        "id": "PJRM0PqOweNF"
      },
      "outputs": [],
      "source": [
        "df['processed_text'] = df['v2'].apply(process_text)"
      ]
    },
    {
      "cell_type": "markdown",
      "metadata": {
        "id": "bqI3aur1weNF"
      },
      "source": [
        "Teniendo en cuenta el estado actual de los datos y el preprocesamiento realizado hasta el momento, procedemos a tokenizar las palabras y a realizar el proceso de lematización. <br>\n",
        "_Entendemos lematizacion a la tecnica de reducir variantes morfologicas de la forma de una palabra a raices comunes o lexemas_"
      ]
    },
    {
      "cell_type": "markdown",
      "metadata": {
        "id": "gHnwEXEnze-G"
      },
      "source": [
        "![image.png](data:image/png;base64,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)"
      ]
    },
    {
      "cell_type": "code",
      "execution_count": null,
      "metadata": {
        "id": "xbM1QHPtweNF"
      },
      "outputs": [],
      "source": [
        "vectorizer = CountVectorizer(stop_words=stopwords.words('english'), ngram_range=(1, 1))\n",
        "bank_of_words = vectorizer.fit_transform(df['processed_text'])\n"
      ]
    },
    {
      "cell_type": "markdown",
      "metadata": {
        "id": "vz1d2bhnDkzy"
      },
      "source": [
        "# Clasificador"
      ]
    },
    {
      "cell_type": "markdown",
      "metadata": {
        "id": "gSAaaFk-weNG"
      },
      "source": [
        "Teniendo nuestra transformacion de los datos, procedemos a dividir el dataset en un conjunto de entrenamiento y un conjunto de prueba. Para ello, se hace uso de la función `train_test_split` de la librería `scikitlearn`. Se divide el conjunto de datos en un 80% para entrenamiento y un 20% para prueba."
      ]
    },
    {
      "cell_type": "code",
      "execution_count": null,
      "metadata": {
        "id": "xqiwEycZweNG"
      },
      "outputs": [],
      "source": [
        "x_train, x_test, y_train, y_test = train_test_split(bank_of_words, df['v1'], test_size=0.2, random_state=42)\n"
      ]
    },
    {
      "cell_type": "markdown",
      "metadata": {
        "id": "_cAeHA9AweNG"
      },
      "source": [
        "Con los datos divididos, procedemos a entrenar el modelo de clasificación Naive-Bayes. Para ello, se hace uso de la función `fit` del modelo `MultinomialNB` de la librería `scikitlearn`."
      ]
    },
    {
      "cell_type": "code",
      "execution_count": null,
      "metadata": {
        "id": "Fx7qj1NhweNG",
        "outputId": "ef30a53a-212d-46b1-d57b-3e578e131c87"
      },
      "outputs": [
        {
          "data": {
            "text/html": [
              "<style>#sk-container-id-2 {\n",
              "  /* Definition of color scheme common for light and dark mode */\n",
              "  --sklearn-color-text: black;\n",
              "  --sklearn-color-line: gray;\n",
              "  /* Definition of color scheme for unfitted estimators */\n",
              "  --sklearn-color-unfitted-level-0: #fff5e6;\n",
              "  --sklearn-color-unfitted-level-1: #f6e4d2;\n",
              "  --sklearn-color-unfitted-level-2: #ffe0b3;\n",
              "  --sklearn-color-unfitted-level-3: chocolate;\n",
              "  /* Definition of color scheme for fitted estimators */\n",
              "  --sklearn-color-fitted-level-0: #f0f8ff;\n",
              "  --sklearn-color-fitted-level-1: #d4ebff;\n",
              "  --sklearn-color-fitted-level-2: #b3dbfd;\n",
              "  --sklearn-color-fitted-level-3: cornflowerblue;\n",
              "\n",
              "  /* Specific color for light theme */\n",
              "  --sklearn-color-text-on-default-background: var(--sg-text-color, var(--theme-code-foreground, var(--jp-content-font-color1, black)));\n",
              "  --sklearn-color-background: var(--sg-background-color, var(--theme-background, var(--jp-layout-color0, white)));\n",
              "  --sklearn-color-border-box: var(--sg-text-color, var(--theme-code-foreground, var(--jp-content-font-color1, black)));\n",
              "  --sklearn-color-icon: #696969;\n",
              "\n",
              "  @media (prefers-color-scheme: dark) {\n",
              "    /* Redefinition of color scheme for dark theme */\n",
              "    --sklearn-color-text-on-default-background: var(--sg-text-color, var(--theme-code-foreground, var(--jp-content-font-color1, white)));\n",
              "    --sklearn-color-background: var(--sg-background-color, var(--theme-background, var(--jp-layout-color0, #111)));\n",
              "    --sklearn-color-border-box: var(--sg-text-color, var(--theme-code-foreground, var(--jp-content-font-color1, white)));\n",
              "    --sklearn-color-icon: #878787;\n",
              "  }\n",
              "}\n",
              "\n",
              "#sk-container-id-2 {\n",
              "  color: var(--sklearn-color-text);\n",
              "}\n",
              "\n",
              "#sk-container-id-2 pre {\n",
              "  padding: 0;\n",
              "}\n",
              "\n",
              "#sk-container-id-2 input.sk-hidden--visually {\n",
              "  border: 0;\n",
              "  clip: rect(1px 1px 1px 1px);\n",
              "  clip: rect(1px, 1px, 1px, 1px);\n",
              "  height: 1px;\n",
              "  margin: -1px;\n",
              "  overflow: hidden;\n",
              "  padding: 0;\n",
              "  position: absolute;\n",
              "  width: 1px;\n",
              "}\n",
              "\n",
              "#sk-container-id-2 div.sk-dashed-wrapped {\n",
              "  border: 1px dashed var(--sklearn-color-line);\n",
              "  margin: 0 0.4em 0.5em 0.4em;\n",
              "  box-sizing: border-box;\n",
              "  padding-bottom: 0.4em;\n",
              "  background-color: var(--sklearn-color-background);\n",
              "}\n",
              "\n",
              "#sk-container-id-2 div.sk-container {\n",
              "  /* jupyter's `normalize.less` sets `[hidden] { display: none; }`\n",
              "     but bootstrap.min.css set `[hidden] { display: none !important; }`\n",
              "     so we also need the `!important` here to be able to override the\n",
              "     default hidden behavior on the sphinx rendered scikit-learn.org.\n",
              "     See: https://github.com/scikit-learn/scikit-learn/issues/21755 */\n",
              "  display: inline-block !important;\n",
              "  position: relative;\n",
              "}\n",
              "\n",
              "#sk-container-id-2 div.sk-text-repr-fallback {\n",
              "  display: none;\n",
              "}\n",
              "\n",
              "div.sk-parallel-item,\n",
              "div.sk-serial,\n",
              "div.sk-item {\n",
              "  /* draw centered vertical line to link estimators */\n",
              "  background-image: linear-gradient(var(--sklearn-color-text-on-default-background), var(--sklearn-color-text-on-default-background));\n",
              "  background-size: 2px 100%;\n",
              "  background-repeat: no-repeat;\n",
              "  background-position: center center;\n",
              "}\n",
              "\n",
              "/* Parallel-specific style estimator block */\n",
              "\n",
              "#sk-container-id-2 div.sk-parallel-item::after {\n",
              "  content: \"\";\n",
              "  width: 100%;\n",
              "  border-bottom: 2px solid var(--sklearn-color-text-on-default-background);\n",
              "  flex-grow: 1;\n",
              "}\n",
              "\n",
              "#sk-container-id-2 div.sk-parallel {\n",
              "  display: flex;\n",
              "  align-items: stretch;\n",
              "  justify-content: center;\n",
              "  background-color: var(--sklearn-color-background);\n",
              "  position: relative;\n",
              "}\n",
              "\n",
              "#sk-container-id-2 div.sk-parallel-item {\n",
              "  display: flex;\n",
              "  flex-direction: column;\n",
              "}\n",
              "\n",
              "#sk-container-id-2 div.sk-parallel-item:first-child::after {\n",
              "  align-self: flex-end;\n",
              "  width: 50%;\n",
              "}\n",
              "\n",
              "#sk-container-id-2 div.sk-parallel-item:last-child::after {\n",
              "  align-self: flex-start;\n",
              "  width: 50%;\n",
              "}\n",
              "\n",
              "#sk-container-id-2 div.sk-parallel-item:only-child::after {\n",
              "  width: 0;\n",
              "}\n",
              "\n",
              "/* Serial-specific style estimator block */\n",
              "\n",
              "#sk-container-id-2 div.sk-serial {\n",
              "  display: flex;\n",
              "  flex-direction: column;\n",
              "  align-items: center;\n",
              "  background-color: var(--sklearn-color-background);\n",
              "  padding-right: 1em;\n",
              "  padding-left: 1em;\n",
              "}\n",
              "\n",
              "\n",
              "/* Toggleable style: style used for estimator/Pipeline/ColumnTransformer box that is\n",
              "clickable and can be expanded/collapsed.\n",
              "- Pipeline and ColumnTransformer use this feature and define the default style\n",
              "- Estimators will overwrite some part of the style using the `sk-estimator` class\n",
              "*/\n",
              "\n",
              "/* Pipeline and ColumnTransformer style (default) */\n",
              "\n",
              "#sk-container-id-2 div.sk-toggleable {\n",
              "  /* Default theme specific background. It is overwritten whether we have a\n",
              "  specific estimator or a Pipeline/ColumnTransformer */\n",
              "  background-color: var(--sklearn-color-background);\n",
              "}\n",
              "\n",
              "/* Toggleable label */\n",
              "#sk-container-id-2 label.sk-toggleable__label {\n",
              "  cursor: pointer;\n",
              "  display: block;\n",
              "  width: 100%;\n",
              "  margin-bottom: 0;\n",
              "  padding: 0.5em;\n",
              "  box-sizing: border-box;\n",
              "  text-align: center;\n",
              "}\n",
              "\n",
              "#sk-container-id-2 label.sk-toggleable__label-arrow:before {\n",
              "  /* Arrow on the left of the label */\n",
              "  content: \"▸\";\n",
              "  float: left;\n",
              "  margin-right: 0.25em;\n",
              "  color: var(--sklearn-color-icon);\n",
              "}\n",
              "\n",
              "#sk-container-id-2 label.sk-toggleable__label-arrow:hover:before {\n",
              "  color: var(--sklearn-color-text);\n",
              "}\n",
              "\n",
              "/* Toggleable content - dropdown */\n",
              "\n",
              "#sk-container-id-2 div.sk-toggleable__content {\n",
              "  max-height: 0;\n",
              "  max-width: 0;\n",
              "  overflow: hidden;\n",
              "  text-align: left;\n",
              "  /* unfitted */\n",
              "  background-color: var(--sklearn-color-unfitted-level-0);\n",
              "}\n",
              "\n",
              "#sk-container-id-2 div.sk-toggleable__content.fitted {\n",
              "  /* fitted */\n",
              "  background-color: var(--sklearn-color-fitted-level-0);\n",
              "}\n",
              "\n",
              "#sk-container-id-2 div.sk-toggleable__content pre {\n",
              "  margin: 0.2em;\n",
              "  border-radius: 0.25em;\n",
              "  color: var(--sklearn-color-text);\n",
              "  /* unfitted */\n",
              "  background-color: var(--sklearn-color-unfitted-level-0);\n",
              "}\n",
              "\n",
              "#sk-container-id-2 div.sk-toggleable__content.fitted pre {\n",
              "  /* unfitted */\n",
              "  background-color: var(--sklearn-color-fitted-level-0);\n",
              "}\n",
              "\n",
              "#sk-container-id-2 input.sk-toggleable__control:checked~div.sk-toggleable__content {\n",
              "  /* Expand drop-down */\n",
              "  max-height: 200px;\n",
              "  max-width: 100%;\n",
              "  overflow: auto;\n",
              "}\n",
              "\n",
              "#sk-container-id-2 input.sk-toggleable__control:checked~label.sk-toggleable__label-arrow:before {\n",
              "  content: \"▾\";\n",
              "}\n",
              "\n",
              "/* Pipeline/ColumnTransformer-specific style */\n",
              "\n",
              "#sk-container-id-2 div.sk-label input.sk-toggleable__control:checked~label.sk-toggleable__label {\n",
              "  color: var(--sklearn-color-text);\n",
              "  background-color: var(--sklearn-color-unfitted-level-2);\n",
              "}\n",
              "\n",
              "#sk-container-id-2 div.sk-label.fitted input.sk-toggleable__control:checked~label.sk-toggleable__label {\n",
              "  background-color: var(--sklearn-color-fitted-level-2);\n",
              "}\n",
              "\n",
              "/* Estimator-specific style */\n",
              "\n",
              "/* Colorize estimator box */\n",
              "#sk-container-id-2 div.sk-estimator input.sk-toggleable__control:checked~label.sk-toggleable__label {\n",
              "  /* unfitted */\n",
              "  background-color: var(--sklearn-color-unfitted-level-2);\n",
              "}\n",
              "\n",
              "#sk-container-id-2 div.sk-estimator.fitted input.sk-toggleable__control:checked~label.sk-toggleable__label {\n",
              "  /* fitted */\n",
              "  background-color: var(--sklearn-color-fitted-level-2);\n",
              "}\n",
              "\n",
              "#sk-container-id-2 div.sk-label label.sk-toggleable__label,\n",
              "#sk-container-id-2 div.sk-label label {\n",
              "  /* The background is the default theme color */\n",
              "  color: var(--sklearn-color-text-on-default-background);\n",
              "}\n",
              "\n",
              "/* On hover, darken the color of the background */\n",
              "#sk-container-id-2 div.sk-label:hover label.sk-toggleable__label {\n",
              "  color: var(--sklearn-color-text);\n",
              "  background-color: var(--sklearn-color-unfitted-level-2);\n",
              "}\n",
              "\n",
              "/* Label box, darken color on hover, fitted */\n",
              "#sk-container-id-2 div.sk-label.fitted:hover label.sk-toggleable__label.fitted {\n",
              "  color: var(--sklearn-color-text);\n",
              "  background-color: var(--sklearn-color-fitted-level-2);\n",
              "}\n",
              "\n",
              "/* Estimator label */\n",
              "\n",
              "#sk-container-id-2 div.sk-label label {\n",
              "  font-family: monospace;\n",
              "  font-weight: bold;\n",
              "  display: inline-block;\n",
              "  line-height: 1.2em;\n",
              "}\n",
              "\n",
              "#sk-container-id-2 div.sk-label-container {\n",
              "  text-align: center;\n",
              "}\n",
              "\n",
              "/* Estimator-specific */\n",
              "#sk-container-id-2 div.sk-estimator {\n",
              "  font-family: monospace;\n",
              "  border: 1px dotted var(--sklearn-color-border-box);\n",
              "  border-radius: 0.25em;\n",
              "  box-sizing: border-box;\n",
              "  margin-bottom: 0.5em;\n",
              "  /* unfitted */\n",
              "  background-color: var(--sklearn-color-unfitted-level-0);\n",
              "}\n",
              "\n",
              "#sk-container-id-2 div.sk-estimator.fitted {\n",
              "  /* fitted */\n",
              "  background-color: var(--sklearn-color-fitted-level-0);\n",
              "}\n",
              "\n",
              "/* on hover */\n",
              "#sk-container-id-2 div.sk-estimator:hover {\n",
              "  /* unfitted */\n",
              "  background-color: var(--sklearn-color-unfitted-level-2);\n",
              "}\n",
              "\n",
              "#sk-container-id-2 div.sk-estimator.fitted:hover {\n",
              "  /* fitted */\n",
              "  background-color: var(--sklearn-color-fitted-level-2);\n",
              "}\n",
              "\n",
              "/* Specification for estimator info (e.g. \"i\" and \"?\") */\n",
              "\n",
              "/* Common style for \"i\" and \"?\" */\n",
              "\n",
              ".sk-estimator-doc-link,\n",
              "a:link.sk-estimator-doc-link,\n",
              "a:visited.sk-estimator-doc-link {\n",
              "  float: right;\n",
              "  font-size: smaller;\n",
              "  line-height: 1em;\n",
              "  font-family: monospace;\n",
              "  background-color: var(--sklearn-color-background);\n",
              "  border-radius: 1em;\n",
              "  height: 1em;\n",
              "  width: 1em;\n",
              "  text-decoration: none !important;\n",
              "  margin-left: 1ex;\n",
              "  /* unfitted */\n",
              "  border: var(--sklearn-color-unfitted-level-1) 1pt solid;\n",
              "  color: var(--sklearn-color-unfitted-level-1);\n",
              "}\n",
              "\n",
              ".sk-estimator-doc-link.fitted,\n",
              "a:link.sk-estimator-doc-link.fitted,\n",
              "a:visited.sk-estimator-doc-link.fitted {\n",
              "  /* fitted */\n",
              "  border: var(--sklearn-color-fitted-level-1) 1pt solid;\n",
              "  color: var(--sklearn-color-fitted-level-1);\n",
              "}\n",
              "\n",
              "/* On hover */\n",
              "div.sk-estimator:hover .sk-estimator-doc-link:hover,\n",
              ".sk-estimator-doc-link:hover,\n",
              "div.sk-label-container:hover .sk-estimator-doc-link:hover,\n",
              ".sk-estimator-doc-link:hover {\n",
              "  /* unfitted */\n",
              "  background-color: var(--sklearn-color-unfitted-level-3);\n",
              "  color: var(--sklearn-color-background);\n",
              "  text-decoration: none;\n",
              "}\n",
              "\n",
              "div.sk-estimator.fitted:hover .sk-estimator-doc-link.fitted:hover,\n",
              ".sk-estimator-doc-link.fitted:hover,\n",
              "div.sk-label-container:hover .sk-estimator-doc-link.fitted:hover,\n",
              ".sk-estimator-doc-link.fitted:hover {\n",
              "  /* fitted */\n",
              "  background-color: var(--sklearn-color-fitted-level-3);\n",
              "  color: var(--sklearn-color-background);\n",
              "  text-decoration: none;\n",
              "}\n",
              "\n",
              "/* Span, style for the box shown on hovering the info icon */\n",
              ".sk-estimator-doc-link span {\n",
              "  display: none;\n",
              "  z-index: 9999;\n",
              "  position: relative;\n",
              "  font-weight: normal;\n",
              "  right: .2ex;\n",
              "  padding: .5ex;\n",
              "  margin: .5ex;\n",
              "  width: min-content;\n",
              "  min-width: 20ex;\n",
              "  max-width: 50ex;\n",
              "  color: var(--sklearn-color-text);\n",
              "  box-shadow: 2pt 2pt 4pt #999;\n",
              "  /* unfitted */\n",
              "  background: var(--sklearn-color-unfitted-level-0);\n",
              "  border: .5pt solid var(--sklearn-color-unfitted-level-3);\n",
              "}\n",
              "\n",
              ".sk-estimator-doc-link.fitted span {\n",
              "  /* fitted */\n",
              "  background: var(--sklearn-color-fitted-level-0);\n",
              "  border: var(--sklearn-color-fitted-level-3);\n",
              "}\n",
              "\n",
              ".sk-estimator-doc-link:hover span {\n",
              "  display: block;\n",
              "}\n",
              "\n",
              "/* \"?\"-specific style due to the `<a>` HTML tag */\n",
              "\n",
              "#sk-container-id-2 a.estimator_doc_link {\n",
              "  float: right;\n",
              "  font-size: 1rem;\n",
              "  line-height: 1em;\n",
              "  font-family: monospace;\n",
              "  background-color: var(--sklearn-color-background);\n",
              "  border-radius: 1rem;\n",
              "  height: 1rem;\n",
              "  width: 1rem;\n",
              "  text-decoration: none;\n",
              "  /* unfitted */\n",
              "  color: var(--sklearn-color-unfitted-level-1);\n",
              "  border: var(--sklearn-color-unfitted-level-1) 1pt solid;\n",
              "}\n",
              "\n",
              "#sk-container-id-2 a.estimator_doc_link.fitted {\n",
              "  /* fitted */\n",
              "  border: var(--sklearn-color-fitted-level-1) 1pt solid;\n",
              "  color: var(--sklearn-color-fitted-level-1);\n",
              "}\n",
              "\n",
              "/* On hover */\n",
              "#sk-container-id-2 a.estimator_doc_link:hover {\n",
              "  /* unfitted */\n",
              "  background-color: var(--sklearn-color-unfitted-level-3);\n",
              "  color: var(--sklearn-color-background);\n",
              "  text-decoration: none;\n",
              "}\n",
              "\n",
              "#sk-container-id-2 a.estimator_doc_link.fitted:hover {\n",
              "  /* fitted */\n",
              "  background-color: var(--sklearn-color-fitted-level-3);\n",
              "}\n",
              "</style><div id=\"sk-container-id-2\" class=\"sk-top-container\"><div class=\"sk-text-repr-fallback\"><pre>MultinomialNB()</pre><b>In a Jupyter environment, please rerun this cell to show the HTML representation or trust the notebook. <br />On GitHub, the HTML representation is unable to render, please try loading this page with nbviewer.org.</b></div><div class=\"sk-container\" hidden><div class=\"sk-item\"><div class=\"sk-estimator fitted sk-toggleable\"><input class=\"sk-toggleable__control sk-hidden--visually\" id=\"sk-estimator-id-2\" type=\"checkbox\" checked><label for=\"sk-estimator-id-2\" class=\"sk-toggleable__label fitted sk-toggleable__label-arrow fitted\">&nbsp;&nbsp;MultinomialNB<a class=\"sk-estimator-doc-link fitted\" rel=\"noreferrer\" target=\"_blank\" href=\"https://scikit-learn.org/1.5/modules/generated/sklearn.naive_bayes.MultinomialNB.html\">?<span>Documentation for MultinomialNB</span></a><span class=\"sk-estimator-doc-link fitted\">i<span>Fitted</span></span></label><div class=\"sk-toggleable__content fitted\"><pre>MultinomialNB()</pre></div> </div></div></div></div>"
            ],
            "text/plain": [
              "MultinomialNB()"
            ]
          },
          "execution_count": 25,
          "metadata": {},
          "output_type": "execute_result"
        }
      ],
      "source": [
        "classifier = MultinomialNB().fit(x_train, y_train)\n",
        "classifier"
      ]
    },
    {
      "cell_type": "code",
      "execution_count": null,
      "metadata": {
        "id": "oNZ5oL5UweNG",
        "outputId": "75878527-e381-4d6c-f9aa-f49684317d9f"
      },
      "outputs": [
        {
          "name": "stdout",
          "output_type": "stream",
          "text": [
            "              precision    recall  f1-score   support\n",
            "\n",
            "         ham       0.99      0.98      0.98       889\n",
            "        spam       0.88      0.93      0.91       145\n",
            "\n",
            "    accuracy                           0.97      1034\n",
            "   macro avg       0.94      0.96      0.95      1034\n",
            "weighted avg       0.97      0.97      0.97      1034\n",
            "\n"
          ]
        }
      ],
      "source": [
        "prediction = classifier.predict(x_test)\n",
        "print(classification_report(y_test, prediction))"
      ]
    },
    {
      "cell_type": "markdown",
      "metadata": {
        "id": "sUdbZ_ejweNG"
      },
      "source": [
        "**Descripción de Resultados del Clasificador de Spam**\n",
        "\n",
        "El modelo de clasificación de spam fue evaluado utilizando las métricas de precisión, recall, y F1-score. A continuación se presentan los resultados obtenidos:\n",
        "\n",
        "- **Ham (No Spam)**:\n",
        "  - *Precisión*: 0.99\n",
        "  - *Recall*: 0.98\n",
        "  - *F1-score*: 0.99\n",
        "  - *Soporte*: 889 ejemplos\n",
        "\n",
        "El modelo mostró un excelente desempeño en la identificación de correos no spam, con una precisión del 99%, lo que indica que casi todos los correos clasificados como no spam son efectivamente legítimos. Además, el recall del 98% sugiere que el modelo identificó correctamente la gran mayoría de los correos no spam.\n",
        "\n",
        "- **Spam**:\n",
        "  - *Precisión*: 0.90\n",
        "  - *Recall*: 0.95\n",
        "  - *F1-score*: 0.92\n",
        "  - *Soporte*: 145 ejemplos\n",
        "\n",
        "Para los correos clasificados como spam, el modelo alcanzó una precisión del 90%, lo que implica que la mayoría de los correos marcados como spam son realmente spam. El recall del 95% indica que el modelo fue capaz de identificar correctamente la mayoría de los correos spam, aunque un pequeño porcentaje fue clasificado incorrectamente como no spam.\n",
        "\n",
        "- **Exactitud (Accuracy)**:\n",
        "  - El modelo logró una precisión global del 98%, lo que demuestra un excelente rendimiento en la clasificación tanto de correos spam como no spam.\n",
        "\n",
        "- **Promedios**:\n",
        "  - *Macro avg*: Considerando ambas clases (ham y spam), se obtuvo una precisión promedio de 0.94, un recall promedio de 0.97, y un F1-score promedio de 0.96. Esto refleja un rendimiento robusto del modelo en ambas clases.\n",
        "  - *Weighted avg*: Ponderando por la cantidad de ejemplos en cada clase, se alcanzó un promedio ponderado de precisión y recall del 98%, con un F1-score también de 98%, lo que sugiere que el modelo es muy fiable en general.\n",
        "\n",
        "En resumen, el clasificador de spam muestra un rendimiento sobresaliente, especialmente en la clasificación de correos no spam, y un desempeño sólido en la detección de correos spam, logrando un equilibrio adecuado entre precisión y recall."
      ]
    },
    {
      "cell_type": "markdown",
      "metadata": {
        "id": "p5UOMJwyDkzz"
      },
      "source": [
        "# Pruebas de Ejemplo\n",
        "Para probar el clasificador de spam, se proporcionan cinco ejemplos de correos electrónicos y se evalúa la predicción del modelo sobre ellos. <br>\n",
        "para hacer las pruebas se creo un funcion  llamada `predict_message` la cual, primero se procesa el mensaje como se hizo en el entrenamiento, luego se vectoriza y posterior a ello se predice si es spam o no."
      ]
    },
    {
      "cell_type": "code",
      "execution_count": null,
      "metadata": {
        "id": "aT1z5Z80Dkzz"
      },
      "outputs": [],
      "source": [
        "def predict_message(message: str) -> str:\n",
        "    \"\"\" Esta funcion recibe un mensaje y devuelve si es spam o es ham \"\"\"\n",
        "    # Procesar el mensaje\n",
        "    processed_message = process_text(message)\n",
        "    # Convertir el mensaje procesado a una matriz de características usando el mismo vectorizer\n",
        "    message_features = vectorizer.transform([processed_message])\n",
        "    prediction = classifier.predict(message_features)\n",
        "    return prediction[0]"
      ]
    },
    {
      "cell_type": "markdown",
      "metadata": {
        "id": "HLSp6-1ZDkzz"
      },
      "source": [
        "seleccionamos 5 mensajes de prueba donde 3 son claramente spam y 2 que son respuestas comunes de correos electronicos."
      ]
    },
    {
      "cell_type": "code",
      "execution_count": null,
      "metadata": {
        "id": "fK5n7IrSDkzz",
        "outputId": "39b84be6-2cc9-4193-9c23-4a023bf52ec8"
      },
      "outputs": [
        {
          "name": "stdout",
          "output_type": "stream",
          "text": [
            "Congratulations! You've won a free vacation. Click here to claim your prize! -> spam\n",
            "Let's meet for lunch tomorrow at 1 PM. -> ham\n",
            "Urgent! Your account has been compromised. Verify your details immediately. -> spam\n",
            "Please send me the report by the end of the day. -> ham\n",
            "You are pre-approved for a $5,000 loan. Apply now! -> spam\n"
          ]
        }
      ],
      "source": [
        "msj1 = \"Congratulations! You've won a free vacation. Click here to claim your prize!\"\n",
        "msj2 = \"Let's meet for lunch tomorrow at 1 PM.\"\n",
        "msj3 = \"Urgent! Your account has been compromised. Verify your details immediately.\"\n",
        "msj4 = \"Please send me the report by the end of the day.\"\n",
        "msj5 = \"You are pre-approved for a $5,000 loan. Apply now!\"\n",
        "\n",
        "print(f'{msj1} -> {predict_message(msj1)}')\n",
        "print(f'{msj2} -> {predict_message(msj2)}')\n",
        "print(f'{msj3} -> {predict_message(msj3)}')\n",
        "print(f'{msj4} -> {predict_message(msj4)}')\n",
        "print(f'{msj5} -> {predict_message(msj5)}')"
      ]
    }
  ],
  "metadata": {
    "colab": {
      "provenance": []
    },
    "kernelspec": {
      "display_name": "base",
      "language": "python",
      "name": "python3"
    },
    "language_info": {
      "codemirror_mode": {
        "name": "ipython",
        "version": 3
      },
      "file_extension": ".py",
      "mimetype": "text/x-python",
      "name": "python",
      "nbconvert_exporter": "python",
      "pygments_lexer": "ipython3",
      "version": "3.12.4"
    }
  },
  "nbformat": 4,
  "nbformat_minor": 0
}